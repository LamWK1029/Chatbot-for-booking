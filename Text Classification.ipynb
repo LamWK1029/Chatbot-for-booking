{
 "cells": [
  {
   "cell_type": "code",
   "execution_count": 7,
   "id": "4e6ea3ba",
   "metadata": {},
   "outputs": [],
   "source": [
    "import json\n",
    "import tensorflow as tf\n",
    "import numpy as np\n",
    "from tensorflow.keras.preprocessing.sequence import pad_sequences\n",
    "import matplotlib.pyplot as plt\n",
    "import data_collection\n",
    "import tokenization\n",
    "import train_model"
   ]
  },
  {
   "cell_type": "code",
   "execution_count": 8,
   "id": "e9095fc3",
   "metadata": {},
   "outputs": [
    {
     "name": "stdout",
     "output_type": "stream",
     "text": [
      "Build categories_model\n"
     ]
    },
    {
     "name": "stderr",
     "output_type": "stream",
     "text": [
      "IOPub data rate exceeded.\n",
      "The notebook server will temporarily stop sending output\n",
      "to the client in order to avoid crashing it.\n",
      "To change this limit, set the config variable\n",
      "`--NotebookApp.iopub_data_rate_limit`.\n",
      "\n",
      "Current values:\n",
      "NotebookApp.iopub_data_rate_limit=1000000.0 (bytes/sec)\n",
      "NotebookApp.rate_limit_window=3.0 (secs)\n",
      "\n"
     ]
    },
    {
     "name": "stdout",
     "output_type": "stream",
     "text": [
      "Model: \"model_3\"\n",
      "__________________________________________________________________________________________________\n",
      " Layer (type)                   Output Shape         Param #     Connected to                     \n",
      "==================================================================================================\n",
      " transcript_input (InputLayer)  [(None, 25)]         0           []                               \n",
      "                                                                                                  \n",
      " word_input (InputLayer)        [(None, 1)]          0           []                               \n",
      "                                                                                                  \n",
      " embedding_6 (Embedding)        (None, 25, 8)        31528       ['transcript_input[0][0]']       \n",
      "                                                                                                  \n",
      " embedding_7 (Embedding)        (None, 1, 4)         15764       ['word_input[0][0]']             \n",
      "                                                                                                  \n",
      " bidirectional_3 (Bidirectional  (None, 64)          10496       ['embedding_6[0][0]']            \n",
      " )                                                                                                \n",
      "                                                                                                  \n",
      " lstm_7 (LSTM)                  (None, 8)            416         ['embedding_7[0][0]']            \n",
      "                                                                                                  \n",
      " concatenate_3 (Concatenate)    (None, 72)           0           ['bidirectional_3[0][0]',        \n",
      "                                                                  'lstm_7[0][0]']                 \n",
      "                                                                                                  \n",
      " dense_3 (Dense)                (None, 8)            584         ['concatenate_3[0][0]']          \n",
      "                                                                                                  \n",
      " stage_output (Dense)           (None, 5)            45          ['dense_3[0][0]']                \n",
      "                                                                                                  \n",
      "==================================================================================================\n",
      "Total params: 58,833\n",
      "Trainable params: 58,833\n",
      "Non-trainable params: 0\n",
      "__________________________________________________________________________________________________\n",
      "None\n",
      "Epoch 1/3\n"
     ]
    },
    {
     "name": "stderr",
     "output_type": "stream",
     "text": [
      "2022-04-08 17:44:53.567675: I tensorflow/core/grappler/optimizers/custom_graph_optimizer_registry.cc:113] Plugin optimizer for device_type GPU is enabled.\n",
      "2022-04-08 17:44:53.891316: I tensorflow/core/grappler/optimizers/custom_graph_optimizer_registry.cc:113] Plugin optimizer for device_type GPU is enabled.\n",
      "2022-04-08 17:44:53.891369: I tensorflow/core/grappler/optimizers/custom_graph_optimizer_registry.cc:113] Plugin optimizer for device_type GPU is enabled.\n",
      "2022-04-08 17:44:53.902536: I tensorflow/core/grappler/optimizers/custom_graph_optimizer_registry.cc:113] Plugin optimizer for device_type GPU is enabled.\n",
      "2022-04-08 17:44:54.029860: I tensorflow/core/grappler/optimizers/custom_graph_optimizer_registry.cc:113] Plugin optimizer for device_type GPU is enabled.\n",
      "2022-04-08 17:44:54.044730: I tensorflow/core/grappler/optimizers/custom_graph_optimizer_registry.cc:113] Plugin optimizer for device_type GPU is enabled.\n",
      "2022-04-08 17:44:54.060308: I tensorflow/core/grappler/optimizers/custom_graph_optimizer_registry.cc:113] Plugin optimizer for device_type GPU is enabled.\n",
      "2022-04-08 17:45:38.591467: I tensorflow/core/grappler/optimizers/custom_graph_optimizer_registry.cc:113] Plugin optimizer for device_type GPU is enabled.\n",
      "2022-04-08 17:45:38.705066: I tensorflow/core/grappler/optimizers/custom_graph_optimizer_registry.cc:113] Plugin optimizer for device_type GPU is enabled.\n",
      "2022-04-08 17:45:38.705130: I tensorflow/core/grappler/optimizers/custom_graph_optimizer_registry.cc:113] Plugin optimizer for device_type GPU is enabled.\n",
      "2022-04-08 17:45:38.712839: I tensorflow/core/grappler/optimizers/custom_graph_optimizer_registry.cc:113] Plugin optimizer for device_type GPU is enabled.\n"
     ]
    },
    {
     "name": "stdout",
     "output_type": "stream",
     "text": [
      "1637/1637 - 64s - loss: 0.1532 - acc: 0.8534 - val_loss: 0.0698 - val_acc: 0.9505 - 64s/epoch - 39ms/step\n",
      "Epoch 2/3\n",
      "1637/1637 - 62s - loss: 0.0587 - acc: 0.9580 - val_loss: 0.0437 - val_acc: 0.9691 - 62s/epoch - 38ms/step\n",
      "Epoch 3/3\n",
      "1637/1637 - 62s - loss: 0.0389 - acc: 0.9709 - val_loss: 0.0319 - val_acc: 0.9752 - 62s/epoch - 38ms/step\n"
     ]
    },
    {
     "data": {
      "image/png": "[encoded data removed]",
      "text/plain": [
       "<Figure size 432x288 with 1 Axes>"
      ]
     },
     "metadata": {
      "needs_background": "light"
     },
     "output_type": "display_data"
    },
    {
     "data": {
      "image/png": "[encoded data removed]",
      "text/plain": [
       "<Figure size 432x288 with 1 Axes>"
      ]
     },
     "metadata": {
      "needs_background": "light"
     },
     "output_type": "display_data"
    },
    {
     "name": "stdout",
     "output_type": "stream",
     "text": [
      "[[9.4375652e-01 3.9576095e-02 3.7496357e-09 2.4018828e-04 7.8207739e-02]\n",
      " [9.2586334e-04 9.7212666e-01 6.0984446e-03 1.0257581e-03 1.8706843e-06]\n",
      " [5.0284882e-10 6.6759856e-03 9.9875641e-01 5.5276658e-03 4.9994048e-04]\n",
      " [4.5596533e-03 2.1269883e-03 1.4103154e-02 9.9649036e-01 1.9348138e-04]\n",
      " [3.1756321e-07 2.0328920e-05 7.9389820e-03 4.9630145e-04 9.7849494e-01]\n",
      " [2.7571411e-07 1.7558630e-05 1.8520314e-03 4.7081117e-05 9.9388254e-01]]\n"
     ]
    },
    {
     "name": "stderr",
     "output_type": "stream",
     "text": [
      "2022-04-08 17:47:59.613886: I tensorflow/core/grappler/optimizers/custom_graph_optimizer_registry.cc:113] Plugin optimizer for device_type GPU is enabled.\n",
      "2022-04-08 17:47:59.713692: I tensorflow/core/grappler/optimizers/custom_graph_optimizer_registry.cc:113] Plugin optimizer for device_type GPU is enabled.\n",
      "2022-04-08 17:47:59.713790: I tensorflow/core/grappler/optimizers/custom_graph_optimizer_registry.cc:113] Plugin optimizer for device_type GPU is enabled.\n",
      "2022-04-08 17:47:59.721453: I tensorflow/core/grappler/optimizers/custom_graph_optimizer_registry.cc:113] Plugin optimizer for device_type GPU is enabled.\n"
     ]
    }
   ],
   "source": [
    "# collecting data\n",
    "data_from_j = open('dataset_for_domain.json', 'r')\n",
    "json_data_dic = json.loads(data_from_j.read())\n",
    "data_from_j.close()\n",
    "\n",
    "dialogue = []\n",
    "for data in json_data_dic:\n",
    "    dialogue.append(data['dialogue'])\n",
    "\n",
    "transcript_label_pair = []\n",
    "for conversation in dialogue:\n",
    "    for turn in conversation:\n",
    "        transcript_label_pair.append({'transcript': turn['transcript'], 'turn_label': turn['turn_label']})\n",
    "\n",
    "price_range, name, time, food, ignore_word = [], [], [], [], []\n",
    "categories_message_with_label = []\n",
    "for pair in transcript_label_pair:\n",
    "    labeled_transcript = pair['transcript']\n",
    "    label_list = pair['turn_label']\n",
    "    categories_turn_label = [0, 0, 0, 0, 0] # price, name, time, food, useless\n",
    "    for label in label_list:\n",
    "        if label[0] == 'restaurant-pricerange' or label[0] == 'hotel-pricerange':\n",
    "            price_range.append({'transcript': labeled_transcript, 'label': label[1], 'key_label': [1, 0, 0, 0, 0]})\n",
    "            categories_turn_label[0] = 1\n",
    "        elif label[0] == 'hotel-name' or label[0] == 'restaurant-name' or label[0] == 'taxi-departure'\\\n",
    "                or label[0] == 'taxi-departure' or label[0] == 'taxi-destination' or label[0] == 'attraction-name'\\\n",
    "                or label[0] == 'train-departure' or label[0] == 'train-destination':\n",
    "            name.append({'transcript': labeled_transcript, 'label': label[1], 'key_label': [0, 1, 0, 0, 0]})\n",
    "            categories_turn_label[1] = 1\n",
    "        elif label[0] == 'restaurant-book time' or label[0] == 'train-arriveby' or label[0] == 'train-leaveat'\\\n",
    "                or label[0] == 'taxi-arriveby' or label[0] == 'taxi-leaveat':\n",
    "            time.append({'transcript': labeled_transcript, 'label': label[1], 'key_label': [0, 0, 1, 0, 0]})\n",
    "            categories_turn_label[2] = 1\n",
    "        elif label[0] == 'restaurant-food':\n",
    "            food.append({'transcript': labeled_transcript, 'label': label[1], 'key_label': [0, 0, 0, 1, 0]})\n",
    "            categories_turn_label[3] = 1\n",
    "    categories_message_with_label.append({'transcript': labeled_transcript, 'categories_label': categories_turn_label})\n"
   ]
  },
  {
   "cell_type": "code",
   "execution_count": null,
   "id": "b142226a",
   "metadata": {},
   "outputs": [],
   "source": [
    "# train categories model\n",
    "# preprocessing\n",
    "print(\"Build categories_model\")\n",
    "message_without_empty_label = []\n",
    "for pair in categories_message_with_label:\n",
    "    if pair['categories_label'] != [0, 0, 0, 0]:\n",
    "        message_without_empty_label.append(pair)\n",
    "\n",
    "categories_train = message_without_empty_label[4000:]\n",
    "categories_test = message_without_empty_label[:4000]\n",
    "categories_train_message, categories_train_label = [], []\n",
    "for categories_pair in categories_train:\n",
    "    categories_train_message.append(categories_pair['transcript'])\n",
    "    categories_train_label.append(categories_pair['categories_label'])\n",
    "categories_test_message, categories_test_label = [], []\n",
    "for categories_pair in categories_test:\n",
    "    categories_test_message.append(categories_pair['transcript'])\n",
    "    categories_test_label.append(categories_pair['categories_label'])\n",
    "\n",
    "# Dictionary    !!! Tokenizer !!!\n",
    "tokenizer, padded_tokenized_message_train, padded_tokenized_message_test = \\\n",
    "    tokenization.tokenize_message(categories_train_message, categories_test_message)\n",
    "categories_train_dataset = [padded_tokenized_message_train, categories_train_label]\n",
    "categories_test_dataset = [padded_tokenized_message_test, categories_test_label]\n",
    "# train model part\n",
    "# train_model.categories_model(tokenizer, categories_train_dataset, categories_test_dataset)\n",
    "\n",
    "# keyboard model\n",
    "# show data size\n",
    "price_range_train, price_range_test = price_range[1000:], price_range[:1000]\n",
    "name_train, name_test = name[2000:], name[:2000]\n",
    "time_train, time_test = time[900:], time[:900]\n",
    "food_train, food_test = food[1000:], food[:1000]\n",
    "# split dataset to train and test\n",
    "train_dataset = price_range_train + name_train + time_train + food_train\n",
    "test_dataset = price_range_test + name_test + time_test + food_test\n",
    "\n",
    "total_data = price_range_train + name_train + time_train + food_train \\\n",
    "             + price_range_test + name_test + time_test + food_test\n",
    "\n",
    "# collect word is not useful for fifth tag\n",
    "key_word, target_word = [], []\n",
    "for element in total_data:  # collect all the keyword\n",
    "    if element['label'] not in key_word:\n",
    "        key_word.append(element['label'])\n",
    "all_transcript, useless = [], []\n",
    "for element in total_data:  # add word to target_word if the word not in keyword\n",
    "    all_transcript.append(element['transcript'])\n",
    "for sentence in all_transcript:\n",
    "    sentence_word_list = sentence.split(' ')\n",
    "    for word in sentence_word_list:\n",
    "        if word not in key_word:\n",
    "            useless.append({'transcript': sentence, 'label': word, 'key_label': [0, 0, 0, 0, 1]})\n",
    "\n",
    "# add useless in train and test\n",
    "train_dataset = price_range_train + name_train + time_train + food_train + useless[5000:25000]\n",
    "test_dataset = price_range_test + name_test + time_test + food_test + useless[:5000]\n",
    "\n",
    "hold_transcript, key_word, key_label = [], [], []\n",
    "for turn in train_dataset:\n",
    "    hold_transcript.append(turn['transcript'])  # input data\n",
    "    key_word.append(turn['label'])  # input data\n",
    "    key_label.append(turn['key_label'])  # output data\n",
    "\n",
    "#   tokenize the word in sentences\n",
    "print(hold_transcript)\n",
    "tokenized_transcript = tokenizer.texts_to_sequences(hold_transcript)\n",
    "tokenized_key_word = tokenizer.texts_to_sequences(key_word)\n",
    "padded_tokenized_transcript = pad_sequences(tokenized_transcript, maxlen=25, padding='post', truncating='post')\n",
    "padded_tokenized_key_word = pad_sequences(tokenized_key_word, maxlen=1, padding='post', truncating='post')\n",
    "\n",
    "# model structure\n",
    "vocab_size = len(tokenizer.word_index) + 1\n",
    "transcript_input = tf.keras.Input(shape=(25,), name=\"transcript_input\")\n",
    "word_input = tf.keras.Input(shape=(1,), name=\"word_input\")\n",
    "transcript_features = tf.keras.layers.Embedding(vocab_size, 8)(transcript_input)\n",
    "word_features = tf.keras.layers.Embedding(vocab_size, 4)(word_input)\n",
    "transcript_features = tf.keras.layers.Bidirectional(tf.keras.layers.LSTM(32))(transcript_features)\n",
    "word_features = tf.keras.layers.LSTM(8)(word_features)\n",
    "combine_layer = tf.keras.layers.concatenate([transcript_features, word_features])\n",
    "control_range_layer = tf.keras.layers.Dense(8, activation='linear')(combine_layer)\n",
    "key_word_output = tf.keras.layers.Dense(5, name=\"stage_output\", activation='sigmoid')(control_range_layer)\n",
    "word_classify_model = tf.keras.Model(\n",
    "    inputs=[transcript_input, word_input],\n",
    "    outputs=[key_word_output],\n",
    ")\n",
    "word_classify_model.compile(loss=['binary_crossentropy'], optimizer='adam', metrics=['acc'])\n",
    "print(word_classify_model.summary())\n",
    "tf.keras.utils.plot_model(word_classify_model, 'transcript_model.png', show_shapes=True)\n",
    "\n",
    "history = word_classify_model.fit({\"transcript_input\": padded_tokenized_transcript, \"word_input\": padded_tokenized_key_word},\n",
    "                                  np.array(key_label), epochs=3,\n",
    "                                  validation_data=({\"transcript_input\": padded_tokenized_transcript,\n",
    "                                            \"word_input\": padded_tokenized_key_word},\n",
    "                                           np.array(key_label)), verbose=2)\n",
    "train_model.plot_model_accurate(history)  # plot graph\n",
    "word_classify_model.save('transcript_model.h5')\n"
   ]
  },
  {
   "cell_type": "code",
   "execution_count": null,
   "id": "1ab91e71",
   "metadata": {},
   "outputs": [],
   "source": [
    "# test the model\n",
    "sentence = [\"hello, I would like to book a cheap hotel\", \"Book a table at 16:00 University\",\n",
    "            \"hello, book a table at 16:00\", \"Want to find some japanese food\",\n",
    "            \"Want to find some japanese food\", \"Want to find some japanese food\"]\n",
    "sequences = tokenizer.texts_to_sequences(sentence)\n",
    "\n",
    "# input layer data text\n",
    "padded = pad_sequences(sequences, maxlen=25, padding='post', truncating='post')\n",
    "word = ['cheap', 'University', '16:00', 'japanese', 'some', 'to']\n",
    "word = tokenizer.texts_to_sequences(word)\n",
    "padded_word = pad_sequences(word, maxlen=1, padding='post', truncating='post')\n",
    "\n",
    "print(\n",
    "    word_classify_model.predict({\"transcript_input\": padded, \"word_input\": padded_word})\n",
    ")\n",
    "\n"
   ]
  }
 ],
 "metadata": {
  "kernelspec": {
   "display_name": "Python 3 (ipykernel)",
   "language": "python",
   "name": "python3"
  },
  "language_info": {
   "codemirror_mode": {
    "name": "ipython",
    "version": 3
   },
   "file_extension": ".py",
   "mimetype": "text/x-python",
   "name": "python",
   "nbconvert_exporter": "python",
   "pygments_lexer": "ipython3",
   "version": "3.8.13"
  }
 },
 "nbformat": 4,
 "nbformat_minor": 5
}
